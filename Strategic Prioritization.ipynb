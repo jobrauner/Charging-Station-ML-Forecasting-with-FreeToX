{
 "cells": [
  {
   "cell_type": "markdown",
   "metadata": {},
   "source": [
    "If you are working on Visual Studio, it is recommended to generate a new dockerfile with the following code:  \n",
    "  \n",
    "  `FROM jupyter/pyspark-notebook:latest`  \n",
    "  `RUN pip install pandas openpyxl geopy osmnx numpy pyspark geopandas`\n"
   ]
  },
  {
   "cell_type": "code",
   "execution_count": null,
   "metadata": {},
   "outputs": [],
   "source": [
    "# Import libraries\n",
    "import pandas as pd\n",
    "import geopandas as gpd\n",
    "import numpy as np\n",
    "import os\n",
    "import osmnx as ox\n",
    "from pyspark.sql import SparkSession, Window\n",
    "from pyspark.sql.functions import log,  avg, when, col, udf, lit, split, ceil, upper, regexp_replace, row_number, countDistinct, count\n",
    "from pyspark.sql.types import *\n",
    "from geopy.distance import geodesic\n",
    "from geopy.geocoders import Nominatim\n",
    "from shapely.geometry import Point\n",
    "\n"
   ]
  },
  {
   "cell_type": "code",
   "execution_count": null,
   "metadata": {},
   "outputs": [],
   "source": [
    "# Create a SparkSession\n",
    "spark = SparkSession.builder \\\n",
    "    .appName(\"Big Data\") \\\n",
    "    .getOrCreate()"
   ]
  },
  {
   "cell_type": "code",
   "execution_count": null,
   "metadata": {},
   "outputs": [
    {
     "name": "stdout",
     "output_type": "stream",
     "text": [
      "+----------+----------------+----------------+----------------------+-------------------------------+\n",
      "|  Location|        Latitude|       Longitude|Energy Predicted range|Energy predicted Point Estimate|\n",
      "+----------+----------------+----------------+----------------------+-------------------------------+\n",
      "|Location 1|     45.09934203|     7.708654993|                  40k+|                      645649.82|\n",
      "|Location 2|45.5584398861864|9.24029489212583|                  40k+|                      682948.72|\n",
      "|Location 3|45.5686020311218|9.36304684610199|                  40k+|                      563589.74|\n",
      "|Location 4|45.6277610515318|8.71249975733013|                  40k+|                      488764.71|\n",
      "|Location 5|41.9240785964876| 12.516346882219|                  40k+|                      313372.09|\n",
      "+----------+----------------+----------------+----------------------+-------------------------------+\n",
      "only showing top 5 rows\n",
      "\n"
     ]
    }
   ],
   "source": [
    "# Read the dataset\n",
    "t3=pd.read_excel(\"/data/full/task_3_dataset_enlarged.xlsx\", header=1)\n",
    "t3.rename(columns={\"Latitude *\": \"Latitude\", \"Longitude *\": \"Longitude\", \"Energy  Predicted range\": \"Energy Predicted range\"}, inplace=True)\n",
    "\n",
    "t3 = spark.createDataFrame(t3)\n",
    "t3.show(5)"
   ]
  },
  {
   "cell_type": "markdown",
   "metadata": {},
   "source": [
    "The coordinates (Latitude and Longitude) have been corrected in the original file.  \n",
    "The original values had an incorrect order of magnitude (e.g., 1e+15), likely due to data entry or conversion errors.  \n",
    "The adjustment brought the values back within plausible ranges for Italy:\n",
    "- Latitude between 35° and 47°\n",
    "- Longitude between 6° and 20°  \n",
    "\n",
    "Coordinates outside these limits were considered erroneous and corrected by reducing the order of magnitude or replacing invalid values with the mean of valid coordinates.  \n",
    "Only a few entries contained erroneous values, which were manually corrected. \n",
    "Otherwise, this adjustment would have been implemented programmatically by manipulating the strings and converting them into numerical values."
   ]
  },
  {
   "cell_type": "code",
   "execution_count": 42,
   "metadata": {},
   "outputs": [
    {
     "name": "stdout",
     "output_type": "stream",
     "text": [
      "root\n",
      " |-- Location: string (nullable = true)\n",
      " |-- Latitude: double (nullable = true)\n",
      " |-- Longitude: double (nullable = true)\n",
      " |-- Energy Predicted range: string (nullable = true)\n",
      " |-- Energy predicted Point Estimate: double (nullable = true)\n",
      "\n"
     ]
    }
   ],
   "source": [
    "t3.printSchema()"
   ]
  },
  {
   "cell_type": "code",
   "execution_count": 43,
   "metadata": {},
   "outputs": [],
   "source": [
    "# \"Energy Predicted range\" column has been encoded for better manipulation\n",
    "t3 = t3.withColumn(\n",
    "    \"Energy Predicted range\",\n",
    "    when(t3[\"Energy Predicted range\"] == \"0k-10k\", 0)\n",
    "    .when(t3[\"Energy Predicted range\"] == \"10k-40k\", 1)\n",
    "    .when(t3[\"Energy Predicted range\"] == \"40k+\", 2))"
   ]
  },
  {
   "cell_type": "code",
   "execution_count": null,
   "metadata": {},
   "outputs": [
    {
     "name": "stdout",
     "output_type": "stream",
     "text": [
      "+-----------+----------------+----------------+----------------------+-------------------------------+----------------+\n",
      "|   Location|        Latitude|       Longitude|Energy Predicted range|Energy predicted Point Estimate|Highway Junction|\n",
      "+-----------+----------------+----------------+----------------------+-------------------------------+----------------+\n",
      "| Location 1|     45.09934203|     7.708654993|                     2|                      645649.82|           false|\n",
      "| Location 2|45.5584398861864|9.24029489212583|                     2|                      682948.72|            true|\n",
      "| Location 3|45.5686020311218|9.36304684610199|                     2|                      563589.74|            true|\n",
      "| Location 4|45.6277610515318|8.71249975733013|                     2|                      488764.71|            true|\n",
      "| Location 5|41.9240785964876| 12.516346882219|                     2|                      313372.09|            true|\n",
      "| Location 6|     43.68321857|     10.43437685|                     2|                      290174.42|            true|\n",
      "| Location 7|       41.911629|      12.4439452|                     2|                      269705.88|           false|\n",
      "| Location 8| 44.810031702133| 10.286827741443|                     2|                      212333.33|            true|\n",
      "| Location 9|45.5118679373017|9.28048191263696|                     2|                      205116.28|           false|\n",
      "|Location 10|      44.8473232|      11.5979132|                     2|                      183647.06|           false|\n",
      "|Location 11|45.5427892825392|9.18957908132117|                     2|                      112727.27|           false|\n",
      "|Location 12|41.9578508559251|12.5479545040863|                     2|                      104090.91|            true|\n",
      "|Location 13|      45.4238615|       11.873375|                     2|                       74117.65|           false|\n",
      "|Location 14|45.5772057974587|9.06559138730712|                     2|                       58470.59|           false|\n",
      "|Location 15| 43.560201415122|13.5108636275027|                     2|                       42823.53|            true|\n",
      "|Location 16|45.3930637896606|9.15013222095038|                     1|                        33705.5|            true|\n",
      "|Location 17|45.6500079673525|8.80839790130186|                     1|                       32798.74|           false|\n",
      "|Location 18|45.4422563231016|9.04696847777923|                     1|                        31396.4|           false|\n",
      "|Location 19|44.8255611421675|10.2096103215406|                     1|                       30327.87|            true|\n",
      "|Location 20| 42.460214478762|12.4183118423288|                     1|                       29968.55|            true|\n",
      "+-----------+----------------+----------------+----------------------+-------------------------------+----------------+\n",
      "only showing top 20 rows\n",
      "\n"
     ]
    }
   ],
   "source": [
    "# Function to retrieve the presence of a highway junction within a km radius\n",
    "def highway_junction(lat, lon, radius_km=1):\n",
    "    tags = {\"highway\": \"motorway_junction\"} \n",
    "    \n",
    "    try:\n",
    "        toll_booths = ox.features_from_point((lat, lon), tags=tags, dist=radius_km * 1000)\n",
    "        \n",
    "        if toll_booths.empty:\n",
    "            return False\n",
    "        \n",
    "        for index, toll_booth in toll_booths.iterrows():\n",
    "            if 'geometry' in toll_booth and toll_booth.geometry.is_valid:\n",
    "                toll_coords = (toll_booth.geometry.y, toll_booth.geometry.x)\n",
    "                distance = geodesic((lat, lon), toll_coords).km\n",
    "                if distance <= radius_km:\n",
    "                    return True  # Junction found\n",
    "\n",
    "    except Exception as e:\n",
    "        return False\n",
    "\n",
    "    return False  # No Junction found\n",
    "\n",
    "highway_junction_udf = udf(lambda lat, lon: highway_junction(lat, lon), BooleanType())\n",
    "t3=t3.withColumn(\"Highway Junction\", highway_junction_udf(col(\"Latitude\"), col(\"Longitude\")))\n",
    "\n",
    "t3.show()"
   ]
  },
  {
   "cell_type": "code",
   "execution_count": null,
   "metadata": {},
   "outputs": [],
   "source": [
    "# Function to find the city of a given latitude and longitude using OSM\n",
    "\n",
    "def trova_comune_osm(latitudine, longitudine):\n",
    "    geolocator = Nominatim(user_agent=\"osm_geocoder\")\n",
    "    \n",
    "    try:\n",
    "        # Inverse geocoding to find the city\n",
    "        location = geolocator.reverse((latitudine, longitudine), language=\"it\")\n",
    "        if location and location.raw.get('address'):\n",
    "            address = location.raw['address']\n",
    "            comune = address.get('city') or address.get('town') or address.get('village') or address.get('municipality')\n",
    "            if comune:\n",
    "                return comune\n",
    "            else:\n",
    "                return \"City not specified in the data\"\n",
    "        else:\n",
    "            return \"Address not found\"\n",
    "    except Exception as e:\n",
    "        return f\"Error during geocoding: {e}\"\n",
    "\n",
    "trova_comune_udf = udf(lambda lat, lon: trova_comune_osm(lat, lon), StringType())\n",
    "\n",
    "t3 = t3.withColumn(\"station_city\", trova_comune_udf(col(\"Latitude\"), col(\"Longitude\")))"
   ]
  },
  {
   "cell_type": "markdown",
   "metadata": {},
   "source": [
    "The following population dataset has been created by collecting the data from Istat website."
   ]
  },
  {
   "cell_type": "code",
   "execution_count": null,
   "metadata": {},
   "outputs": [],
   "source": [
    "population=spark.createDataFrame(pd.read_excel(\"/data/full/Population Italy.xlsx\", header=0))\n",
    "population.createOrReplaceTempView(\"Population_Italy\")\n",
    "\n",
    "# Divide the dataset into two tables\n",
    "pop_age = spark.sql(\"\"\"\n",
    "    SELECT Age, `Total Male`, `Total Female`, `Total`\n",
    "    FROM Population_Italy \n",
    "    WHERE Age IS NOT NULL AND TRIM(`Age`) != 'NaN'\n",
    "\"\"\")\n",
    "\n",
    "pop_city = spark.sql(\"\"\"\n",
    "    SELECT `Region`, `Province`, `City Code`, `City Name`, `Total Male`, `Total Female`, `Total`\n",
    "    FROM Population_Italy \n",
    "    WHERE `City Name` IS NOT NULL AND TRIM(`City Name`) != 'NaN'\n",
    "\"\"\")"
   ]
  },
  {
   "cell_type": "code",
   "execution_count": 48,
   "metadata": {},
   "outputs": [
    {
     "name": "stdout",
     "output_type": "stream",
     "text": [
      "+---+----------+------------+------+\n",
      "|Age|Total Male|Total Female| Total|\n",
      "+---+----------+------------+------+\n",
      "|  0|    196699|      185369|382068|\n",
      "|  1|    204524|      191748|396272|\n",
      "|  2|    208869|      197972|406841|\n",
      "|  3|    213468|      200474|413942|\n",
      "|  4|    221623|      209801|431424|\n",
      "+---+----------+------------+------+\n",
      "only showing top 5 rows\n",
      "\n",
      "+-------+---------+---------+--------------------+----------+------------+-----+\n",
      "| Region| Province|City Code|           City Name|Total Male|Total Female|Total|\n",
      "+-------+---------+---------+--------------------+----------+------------+-----+\n",
      "|Sicilia|Agrigento|  84001.0|           Agrigento|     27124|       28193|55317|\n",
      "|Sicilia|Agrigento|  84002.0|Alessandria della...|      1159|        1223| 2382|\n",
      "|Sicilia|Agrigento|  84003.0|             Aragona|      4243|        4482| 8725|\n",
      "|Sicilia|Agrigento|  84004.0|              Bivona|      1511|        1618| 3129|\n",
      "|Sicilia|Agrigento|  84005.0|              Burgio|      1198|        1282| 2480|\n",
      "+-------+---------+---------+--------------------+----------+------------+-----+\n",
      "only showing top 5 rows\n",
      "\n"
     ]
    }
   ],
   "source": [
    "pop_age.show(5)\n",
    "pop_city.show(5)"
   ]
  },
  {
   "cell_type": "code",
   "execution_count": 49,
   "metadata": {},
   "outputs": [
    {
     "name": "stdout",
     "output_type": "stream",
     "text": [
      "Percentage of People in Driving Age: 81.56%\n"
     ]
    }
   ],
   "source": [
    "# Calculation of the percentage of People in Driving Age\n",
    "filtered_pop_age = pop_age.filter((col(\"Age\") >= 18) & (col(\"Age\") <= 85))\n",
    "filtered_total = filtered_pop_age.agg({\"Total\": \"sum\"}).collect()[0][0]\n",
    "total_sum = pop_age.agg({\"Total\": \"sum\"}).collect()[0][0]\n",
    "percentage = (filtered_total / total_sum)\n",
    "\n",
    "print(f\"Percentage of People in Driving Age: {(percentage*100):.2f}%\")\n"
   ]
  },
  {
   "cell_type": "code",
   "execution_count": null,
   "metadata": {},
   "outputs": [
    {
     "name": "stdout",
     "output_type": "stream",
     "text": [
      "+-----------+----------------+----------------+----------------------+-------------------------------+----------------+-------------------+--------------+---------------------+\n",
      "|   Location|        Latitude|       Longitude|Energy Predicted range|Energy predicted Point Estimate|Highway Junction|       station_city|        Region|People in Driving Age|\n",
      "+-----------+----------------+----------------+----------------------+-------------------------------+----------------+-------------------+--------------+---------------------+\n",
      "| Location 1|     45.09934203|     7.708654993|                     2|                      645649.82|           false|             Torino|      PIEMONTE|               690792|\n",
      "| Location 2|45.5584398861864|9.24029489212583|                     2|                      682948.72|            true|  Cinisello Balsamo|     LOMBARDIA|                61130|\n",
      "| Location 3|45.5686020311218|9.36304684610199|                     2|                      563589.74|            true|     Agrate Brianza|     LOMBARDIA|                12801|\n",
      "| Location 4|45.6277610515318|8.71249975733013|                     2|                      488764.71|            true|              Ferno|     LOMBARDIA|                 5437|\n",
      "| Location 5|41.9240785964876| 12.516346882219|                     2|                      313372.09|            true|               Roma|         LAZIO|              2246875|\n",
      "| Location 6|     43.68321857|     10.43437685|                     2|                      290174.42|            true|               Pisa|       TOSCANA|                72896|\n",
      "| Location 7|       41.911629|      12.4439452|                     2|                      269705.88|           false|               Roma|         LAZIO|              2246875|\n",
      "| Location 8| 44.810031702133| 10.286827741443|                     2|                      212333.33|            true|              Parma|EMILIA ROMAGNA|               161903|\n",
      "| Location 9|45.5118679373017|9.28048191263696|                     2|                      205116.28|           false|          Vimodrone|     LOMBARDIA|                13720|\n",
      "|Location 10|      44.8473232|      11.5979132|                     2|                      183647.06|           false|            Ferrara|EMILIA ROMAGNA|               105671|\n",
      "|Location 11|45.5427892825392|9.18957908132117|                     2|                      112727.27|           false|             Bresso|     LOMBARDIA|                21410|\n",
      "|Location 12|41.9578508559251|12.5479545040863|                     2|                      104090.91|            true|               Roma|         LAZIO|              2246875|\n",
      "|Location 13|      45.4238615|       11.873375|                     2|                       74117.65|           false|             Padova|        VENETO|               169085|\n",
      "|Location 14|45.5772057974587|9.06559138730712|                     2|                       58470.59|           false|Garbagnate Milanese|     LOMBARDIA|                22038|\n",
      "|Location 15| 43.560201415122|13.5108636275027|                     2|                       42823.53|            true|             Ancona|        MARCHE|                80944|\n",
      "|Location 16|45.3930637896606|9.15013222095038|                     1|                        33705.5|            true|            Rozzano|     LOMBARDIA|                33734|\n",
      "|Location 17|45.6500079673525|8.80839790130186|                     1|                       32798.74|           false|          Gallarate|     LOMBARDIA|                43439|\n",
      "|Location 18|45.4422563231016|9.04696847777923|                     1|                        31396.4|           false|             Cusago|     LOMBARDIA|                 3838|\n",
      "|Location 19|44.8255611421675|10.2096103215406|                     1|                       30327.87|            true|          Fontevivo|EMILIA ROMAGNA|                 4474|\n",
      "|Location 20| 42.460214478762|12.4183118423288|                     1|                       29968.55|            true|               Orte|         LAZIO|                 7420|\n",
      "+-----------+----------------+----------------+----------------------+-------------------------------+----------------+-------------------+--------------+---------------------+\n",
      "only showing top 20 rows\n",
      "\n"
     ]
    }
   ],
   "source": [
    "# Calculation of the number of People in Driving Age per city\n",
    "pop_city_pandas = pop_city.toPandas()\n",
    "city_region_dict = pop_city_pandas.set_index('City Name')['Region'].to_dict()\n",
    "city_population_dict = pop_city_pandas.set_index('City Name')['Total'].to_dict()\n",
    "\n",
    "def map_region(city_name):\n",
    "    return city_region_dict.get(city_name, \"Unknown\")\n",
    "def map_population(city_name):\n",
    "    return city_population_dict.get(city_name, 0)\n",
    "\n",
    "map_region_udf = udf(map_region, StringType())\n",
    "map_population_udf = udf(map_population, IntegerType())\n",
    "\n",
    "t3 = t3.withColumn(\n",
    "    \"Region\", \n",
    "    upper(map_region_udf(t3[\"station_city\"]))\n",
    ").withColumn(\n",
    "    \"People in Driving Age\", \n",
    "    ceil(map_population_udf(t3[\"station_city\"]) * percentage)\n",
    ")\n",
    "\n",
    "t3.show()\n"
   ]
  },
  {
   "cell_type": "code",
   "execution_count": 51,
   "metadata": {},
   "outputs": [
    {
     "data": {
      "text/plain": [
       "{'SICILIA': 0.0013225537864958936,\n",
       " 'TOSCANA': 0.015410399154332654,\n",
       " 'PIEMONTE': 0.0045666801260248234,\n",
       " 'VENETO': 0.0049870444429605115,\n",
       " 'LOMBARDIA': 0.007209300747425685,\n",
       " 'PUGLIA': 0.000945861434874861,\n",
       " 'MARCHE': 0.0018842287293346187,\n",
       " 'CAMPANIA': 0.0011894292671512873,\n",
       " 'ABRUZZO': 0.0012811396867467792,\n",
       " 'CALABRIA': 0.000717569295215298,\n",
       " 'TRENTINO ALTO ADIGE': 0.06360812692979693,\n",
       " 'SARDEGNA': 0.0011430791898061946,\n",
       " 'MOLISE': 0.0,\n",
       " 'EMILIA ROMAGNA': 0.004795043315906554,\n",
       " 'LAZIO': 0.005768082356922888,\n",
       " 'LIGURIA': 0.0017132287103993977,\n",
       " 'FRIULI VENEZIA GIULIA': 0.00212913282577572,\n",
       " 'BASILICATA': 0.00022487238492155701,\n",
       " 'UMBRIA': 0.001047545699912685,\n",
       " \"VALLE D'AOSTA\": 0.12403062966395162}"
      ]
     },
     "execution_count": 51,
     "metadata": {},
     "output_type": "execute_result"
    }
   ],
   "source": [
    "# Calculation of the number of Electric/Plug in Hybrid Vehicles per region \n",
    "\n",
    "electric_vehicles = spark.read.csv(\"/data/full/electric.csv\", header=True)\n",
    "electric_vehicles = electric_vehicles.withColumn(\"Totale\", electric_vehicles[\"Totale\"].cast(IntegerType())).withColumn(\"Year\", electric_vehicles[\"Year\"].cast(IntegerType()))\n",
    "electric_vehicles = electric_vehicles.filter(electric_vehicles[\"Year\"] == 2023) # We take the most recent data available\n",
    "\n",
    "# Creation of a dictionary with the total number of electric vehicles per region\n",
    "el_v_per_region = electric_vehicles.groupBy(\"Area geografica\").sum(\"Totale\")\n",
    "el_v_dict = {row[\"Area geografica\"]: row[\"sum(Totale)\"] for row in el_v_per_region.collect()}\n",
    "el_v_dict.setdefault(\"MOLISE\", 0) # Adding Molise as it is not present in the original dataset\n",
    "\n",
    "# Creation of a dictionary with the total number of residents per region\n",
    "pop_region = pop_city.groupBy(\"Region\").sum(\"Total\")\n",
    "pop_region_dict = {row[\"Region\"].upper(): row[\"sum(Total)\"] for row in pop_region.collect()}\n",
    "\n",
    "\n",
    "# Creation of a dictionary with the number of electric vehicles per capita per region\n",
    "ev_percapita = {region: el_v_dict[region] / pop_region_dict[region] for region in pop_region_dict}\n",
    "\n",
    "ev_percapita"
   ]
  },
  {
   "cell_type": "code",
   "execution_count": null,
   "metadata": {},
   "outputs": [
    {
     "name": "stdout",
     "output_type": "stream",
     "text": [
      "+----------+----------------+----------------+----------------------+-------------------------------+----------------+-----------------+---------+---------------------+-------------------------------------+\n",
      "|  Location|        Latitude|       Longitude|Energy Predicted range|Energy predicted Point Estimate|Highway Junction|     station_city|   Region|People in Driving Age|Estimated number of electric vehicles|\n",
      "+----------+----------------+----------------+----------------------+-------------------------------+----------------+-----------------+---------+---------------------+-------------------------------------+\n",
      "|Location 1|     45.09934203|     7.708654993|                     2|                      645649.82|           false|           Torino| PIEMONTE|               690792|                   3154.6260976169397|\n",
      "|Location 2|45.5584398861864|9.24029489212583|                     2|                      682948.72|            true|Cinisello Balsamo|LOMBARDIA|                61130|                    440.7045546901321|\n",
      "|Location 3|45.5686020311218|9.36304684610199|                     2|                      563589.74|            true|   Agrate Brianza|LOMBARDIA|                12801|                    92.28625886779619|\n",
      "|Location 4|45.6277610515318|8.71249975733013|                     2|                      488764.71|            true|            Ferno|LOMBARDIA|                 5437|                   39.196968163753446|\n",
      "|Location 5|41.9240785964876| 12.516346882219|                     2|                      313372.09|            true|             Roma|    LAZIO|              2246875|                   12960.160045711114|\n",
      "+----------+----------------+----------------+----------------------+-------------------------------+----------------+-----------------+---------+---------------------+-------------------------------------+\n",
      "only showing top 5 rows\n",
      "\n"
     ]
    }
   ],
   "source": [
    "# Calculation of the number of Electric/Plug in Hybrid Vehicles per city \n",
    "def calculate_ev(region, people_in_driving_age):\n",
    "    ev_ratio = ev_percapita.get(region, 0)\n",
    "    return people_in_driving_age * ev_ratio if people_in_driving_age is not None else None\n",
    "\n",
    "calculate_ev_udf = udf(calculate_ev, DoubleType())\n",
    "\n",
    "t3 = t3.withColumn(\n",
    "    \"Estimated number of electric vehicles\",\n",
    "    calculate_ev_udf(col(\"Region\"), col(\"People in Driving Age\"))\n",
    ")\n",
    "\n",
    "t3.show(5)"
   ]
  },
  {
   "cell_type": "code",
   "execution_count": null,
   "metadata": {},
   "outputs": [
    {
     "name": "stdout",
     "output_type": "stream",
     "text": [
      "+-----------+----------------+----------------+----------------------+-------------------------------+----------------+-------------------+--------------+---------------------+-------------------------------------+----------+----+-------+---+----+--------+---+---------+--------+---------+--------+-----------------+----------------+--------+------+-----------+--------+-----------+-----------+\n",
      "|   Location|        Latitude|       Longitude|Energy Predicted range|Energy predicted Point Estimate|Highway Junction|       station_city|        Region|People in Driving Age|Estimated number of electric vehicles|restaurant|fuel|parking|atm|bank|hospital|pub|fast_food|townhall|nightclub|car_wash|conference_centre|payment_terminal|training|school|bus_station|pharmacy|supermarket|post_office|\n",
      "+-----------+----------------+----------------+----------------------+-------------------------------+----------------+-------------------+--------------+---------------------+-------------------------------------+----------+----+-------+---+----+--------+---+---------+--------+---------+--------+-----------------+----------------+--------+------+-----------+--------+-----------+-----------+\n",
      "| Location 1|     45.09934203|     7.708654993|                     2|                      645649.82|           false|             Torino|      PIEMONTE|               690792|                   3154.6260976169397|        14|  11|     47|  0|   5|       1|  1|        3|       0|        0|       3|                0|               0|       0|    13|          0|      11|          0|          3|\n",
      "| Location 2|45.5584398861864|9.24029489212583|                     2|                      682948.72|            true|  Cinisello Balsamo|     LOMBARDIA|                61130|                    440.7045546901321|         8|   7|     77|  0|   0|       0|  0|        5|       0|        1|       1|                0|               0|       0|     3|          0|       2|          0|          0|\n",
      "| Location 3|45.5686020311218|9.36304684610199|                     2|                      563589.74|            true|     Agrate Brianza|     LOMBARDIA|                12801|                    92.28625886779619|         5|   4|     68|  1|   1|       0|  0|        1|       0|        0|       1|                0|               0|       0|     1|          0|       3|          0|          0|\n",
      "| Location 4|45.6277610515318|8.71249975733013|                     2|                      488764.71|            true|              Ferno|     LOMBARDIA|                 5437|                   39.196968163753446|         2|   0|     26|  1|   0|       0|  0|        4|       0|        0|       0|                0|               0|       0|     0|          0|       1|          0|          0|\n",
      "| Location 5|41.9240785964876| 12.516346882219|                     2|                      313372.09|            true|               Roma|         LAZIO|              2246875|                   12960.160045711114|        39|  24|    146|  3|  14|       4|  7|       11|       0|        1|       0|                0|               0|       0|    23|          0|      23|          0|          4|\n",
      "| Location 6|     43.68321857|     10.43437685|                     2|                      290174.42|            true|               Pisa|       TOSCANA|                72896|                   1123.3564567542332|         8|   4|     22|  1|   3|       0|  0|        2|       0|        0|       2|                0|               0|       0|     1|          0|       0|          0|          1|\n",
      "| Location 7|       41.911629|      12.4439452|                     2|                      269705.88|           false|               Roma|         LAZIO|              2246875|                   12960.160045711114|        73|  18|     72|  6|  11|       2|  7|       30|       1|        1|       4|                0|               0|       0|     7|          3|      16|          0|          2|\n",
      "| Location 8| 44.810031702133| 10.286827741443|                     2|                      212333.33|            true|              Parma|EMILIA ROMAGNA|               161903|                    776.3318979752188|         3|   5|     20|  0|   0|       0|  0|        2|       0|        0|       1|                0|               0|       0|     1|          0|       1|          0|          0|\n",
      "| Location 9|45.5118679373017|9.28048191263696|                     2|                      205116.28|           false|          Vimodrone|     LOMBARDIA|                13720|                     98.9116062546804|        10|   2|     91|  0|   1|       1|  0|        1|       2|        0|       1|                0|               0|       0|     8|          0|       2|          0|          2|\n",
      "|Location 10|      44.8473232|      11.5979132|                     2|                      183647.06|           false|            Ferrara|EMILIA ROMAGNA|               105671|                   506.69702223516146|        16|   8|     96|  0|   6|       1|  0|        3|       0|        1|       0|                0|               0|       0|     5|          1|       3|          0|          2|\n",
      "|Location 11|45.5427892825392|9.18957908132117|                     2|                      112727.27|           false|             Bresso|     LOMBARDIA|                21410|                    154.3511290023839|        22|   6|    113|  3|  11|       1|  3|        8|       2|        0|       2|                0|               0|       0|    14|          0|      12|          0|          3|\n",
      "|Location 12|41.9578508559251|12.5479545040863|                     2|                      104090.91|            true|               Roma|         LAZIO|              2246875|                   12960.160045711114|         8|   6|     52|  0|   2|       0|  3|        3|       1|        0|       2|                0|               0|       0|     8|          0|       4|          0|          1|\n",
      "|Location 13|      45.4238615|       11.873375|                     2|                       74117.65|           false|             Padova|        VENETO|               169085|                     843.234409637978|        10|   9|     57|  2|  10|       1|  2|       14|       0|        2|       0|                0|               0|       0|    10|          2|       9|          0|          3|\n",
      "|Location 14|45.5772057974587|9.06559138730712|                     2|                       58470.59|           false|Garbagnate Milanese|     LOMBARDIA|                22038|                   158.87856987176724|        13|   4|    124|  0|   0|       0|  0|        2|       0|        0|       0|                0|               0|       0|     9|          0|       1|          0|          1|\n",
      "|Location 15| 43.560201415122|13.5108636275027|                     2|                       42823.53|            true|             Ancona|        MARCHE|                80944|                   152.51701026726138|        11|   4|     13|  1|   2|       0|  2|        6|       0|        1|       1|                0|               0|       0|     1|          0|       1|          0|          0|\n",
      "|Location 16|45.3930637896606|9.15013222095038|                     1|                        33705.5|            true|            Rozzano|     LOMBARDIA|                33734|                   243.19855141365804|         7|   3|     49|  0|   0|       0|  0|        1|       0|        0|       1|                0|               0|       0|     6|          0|       1|          0|          0|\n",
      "|Location 17|45.6500079673525|8.80839790130186|                     1|                       32798.74|           false|          Gallarate|     LOMBARDIA|                43439|                    313.1648151674243|        12|   5|    139|  1|   4|       0|  1|        8|       0|        0|       1|                0|               1|       0|     3|          2|       2|          0|          0|\n",
      "|Location 18|45.4422563231016|9.04696847777923|                     1|                        31396.4|           false|             Cusago|     LOMBARDIA|                 3838|                   27.669296268619778|         3|   2|     31|  0|   1|       0|  0|        0|       0|        0|       1|                0|               0|       0|     3|          0|       1|          0|          0|\n",
      "|Location 19|44.8255611421675|10.2096103215406|                     1|                       30327.87|            true|          Fontevivo|EMILIA ROMAGNA|                 4474|                   21.453023795365922|         3|   2|      9|  0|   2|       0|  0|        0|       0|        0|       0|                0|               0|       0|     1|          0|       1|          0|          1|\n",
      "|Location 20| 42.460214478762|12.4183118423288|                     1|                       29968.55|            true|               Orte|         LAZIO|                 7420|                    42.79917108836783|         1|   4|      4|  0|   0|       0|  0|        2|       0|        0|       0|                0|               1|       0|     0|          0|       0|          0|          0|\n",
      "+-----------+----------------+----------------+----------------------+-------------------------------+----------------+-------------------+--------------+---------------------+-------------------------------------+----------+----+-------+---+----+--------+---+---------+--------+---------+--------+-----------------+----------------+--------+------+-----------+--------+-----------+-----------+\n",
      "only showing top 20 rows\n",
      "\n"
     ]
    }
   ],
   "source": [
    "amenities=['restaurant', 'fuel', 'parking', 'atm', 'bank', 'hospital', 'pub', \n",
    "    'fast_food', 'townhall', 'nightclub', 'car_wash', 'conference_centre', \n",
    "    'payment_terminal', 'training', 'school', 'bus_station', 'pharmacy', \n",
    "    'supermarket', 'post_office']\n",
    "\n",
    "# Function to count amenities per tipology\n",
    "def count_amenities(lat, lon, radius=1000):\n",
    "    amenity_counts = {}\n",
    "\n",
    "    for amenity in amenities:\n",
    "        try:\n",
    "            location_point = Point(lon, lat)\n",
    "            gdf = ox.features_from_point((lat, lon), tags={'amenity': amenity}, dist=radius)\n",
    "            amenity_counts[amenity] = len(gdf)\n",
    "        except Exception:\n",
    "            amenity_counts[amenity] = 0\n",
    "\n",
    "    return amenity_counts\n",
    "\n",
    "count_amenities_udf = udf(lambda lat, lon: count_amenities(lat, lon), MapType(StringType(), IntegerType()))\n",
    "\n",
    "t3 = t3.withColumn(\"amenities\", count_amenities_udf(col(\"Latitude\"), col(\"Longitude\")))\n",
    "\n",
    "# Explode the dictionary into separate columns\n",
    "for amenity in amenities:\n",
    "    t3 = t3.withColumn(amenity, col(\"amenities\").getItem(amenity))\n",
    "\n",
    "\n",
    "t3 = t3.drop(\"amenities\")\n",
    "\n",
    "t3.show()"
   ]
  },
  {
   "cell_type": "code",
   "execution_count": null,
   "metadata": {},
   "outputs": [],
   "source": [
    "# Intermediate save\n",
    "# t3.toPandas().to_csv(\"/data/full/t3_before_competitors.csv\", index=False)"
   ]
  },
  {
   "cell_type": "code",
   "execution_count": null,
   "metadata": {},
   "outputs": [
    {
     "name": "stdout",
     "output_type": "stream",
     "text": [
      "+--------------------+--------------------+---------+---------+\n",
      "|        businessName|             evse_id| Latitude|Longitude|\n",
      "+--------------------+--------------------+---------+---------+\n",
      "|    EMOBITALY S.r.l.|                  IT| 42.42088|12.236132|\n",
      "|A2A E.MOBILITY S....|IT*A2A*E119480574...| 45.58421| 10.17963|\n",
      "|A2A E.MOBILITY S....|IT*A2A*E119480575...|45.632458| 9.860249|\n",
      "|A2A E.MOBILITY S....|IT*A2A*E119480575...|45.355762| 9.679891|\n",
      "|A2A E.MOBILITY S....|IT*A2A*E119480575...|45.578396|10.009855|\n",
      "+--------------------+--------------------+---------+---------+\n",
      "only showing top 5 rows\n",
      "\n"
     ]
    }
   ],
   "source": [
    "# Calculation of competitors within 1km\n",
    "\n",
    "pun = spark.read.csv(\n",
    "    \"/data/full/pun_data_cleaned.csv\",\n",
    "    header=True,\n",
    "    inferSchema=True,\n",
    "    sep=\",\"\n",
    ")\n",
    "\n",
    "pun = pun.withColumn(\n",
    "    \"Latitude\", regexp_replace(col(\"Latitude\"), \",\", \".\")\n",
    "    ).withColumn(\n",
    "    'Latitude', col('Latitude').cast(StringType()).cast(FloatType()))\n",
    "pun = pun.withColumn(\n",
    "    \"Longitude\", regexp_replace(col(\"Longitude\"), \",\", \".\")\n",
    "    ).withColumn(\n",
    "    'Longitude', col('Longitude').cast(StringType()).cast(FloatType()))\n",
    "\n",
    "pun.show(5)"
   ]
  },
  {
   "cell_type": "code",
   "execution_count": null,
   "metadata": {},
   "outputs": [],
   "source": [
    "# Function to calculate distance between two points\n",
    "def calculate_distance(lat1, lon1, lat2, lon2):\n",
    "    try:\n",
    "        return geodesic((lat1, lon1), (lat2, lon2)).km\n",
    "    except:\n",
    "        return None\n",
    "    \n",
    "distance_udf = udf(\n",
    "    lambda lat1, lon1, lat2, lon2: calculate_distance(lat1, lon1, lat2, lon2), \n",
    "    FloatType()\n",
    ")"
   ]
  },
  {
   "cell_type": "code",
   "execution_count": null,
   "metadata": {},
   "outputs": [],
   "source": [
    "t3_alias = t3.alias(\"t3\")\n",
    "pun_alias = pun.alias(\"pun\")\n",
    "\n",
    "# Cross join to calculate distances between each point of t3 and all points of pun\n",
    "cross_joined = t3_alias.crossJoin(pun_alias)\n",
    "\n",
    "with_distances = cross_joined.withColumn(\n",
    "    \"distance_km\",\n",
    "    distance_udf(\n",
    "        col(\"t3.Latitude\"), col(\"t3.Longitude\"),\n",
    "        col(\"pun.Latitude\"), col(\"pun.Longitude\")\n",
    "    )\n",
    ")\n"
   ]
  },
  {
   "cell_type": "code",
   "execution_count": null,
   "metadata": {},
   "outputs": [
    {
     "name": "stdout",
     "output_type": "stream",
     "text": [
      "+-----------+----------------+----------------+----------------------+-------------------------------+----------------+--------------------+--------------+---------------------+-------------------------------------+----------+----+-------+---+----+--------+---+---------+--------+---------+--------+-----------------+----------------+--------+------+-----------+--------+-----------+-----------+----------------------+\n",
      "|   Location|        Latitude|       Longitude|Energy Predicted range|Energy predicted Point Estimate|Highway Junction|        station_city|        Region|People in Driving Age|Estimated number of electric vehicles|restaurant|fuel|parking|atm|bank|hospital|pub|fast_food|townhall|nightclub|car_wash|conference_centre|payment_terminal|training|school|bus_station|pharmacy|supermarket|post_office|competitors_within_1km|\n",
      "+-----------+----------------+----------------+----------------------+-------------------------------+----------------+--------------------+--------------+---------------------+-------------------------------------+----------+----+-------+---+----+--------+---+---------+--------+---------+--------+-----------------+----------------+--------+------+-----------+--------+-----------+-----------+----------------------+\n",
      "| Location 1|     45.09934203|     7.708654993|                     2|                      645649.82|           false|              Torino|       UNKNOWN|               690792|                                 NULL|        14|  11|     47|  0|   5|       1|  1|        3|       0|        0|       3|                0|               0|       0|    13|          0|      11|          0|          3|                     7|\n",
      "| Location 2|45.5584398861864|9.24029489212583|                     2|                      682948.72|            true|   Cinisello Balsamo|     LOMBARDIA|                61130|                    440.7045546901321|         8|   7|     77|  0|   0|       0|  0|        5|       0|        1|       1|                0|               0|       0|     3|          0|       2|          0|          0|                     1|\n",
      "| Location 3|45.5686020311218|9.36304684610199|                     2|                      563589.74|            true|      Agrate Brianza|     LOMBARDIA|                12801|                    92.28625886779619|         5|   4|     68|  1|   1|       0|  0|        1|       0|        0|       1|                0|               0|       0|     1|          0|       3|          0|          0|                     3|\n",
      "| Location 4|45.6277610515318|8.71249975733013|                     2|                      488764.71|            true|               Ferno|     LOMBARDIA|                 5437|                   39.196968163753446|         2|   0|     26|  1|   0|       0|  0|        4|       0|        0|       0|                0|               0|       0|     0|          0|       1|          0|          0|                     0|\n",
      "| Location 5|41.9240785964876| 12.516346882219|                     2|                      313372.09|            true|                Roma|         LAZIO|              2246875|                   12960.160045711114|        39|  24|    146|  3|  14|       4|  7|       11|       0|        1|       0|                0|               0|       0|    23|          0|      23|          0|          4|                    21|\n",
      "| Location 6|     43.68321857|     10.43437685|                     2|                      290174.42|            true|                Pisa|       TOSCANA|                72896|                   1123.3564567542332|         8|   4|     22|  1|   3|       0|  0|        2|       0|        0|       2|                0|               0|       0|     1|          0|       0|          0|          1|                     0|\n",
      "| Location 7|       41.911629|      12.4439452|                     2|                      269705.88|           false|                Roma|         LAZIO|              2246875|                   12960.160045711114|        73|  18|     72|  6|  11|       2|  7|       30|       1|        1|       4|                0|               0|       0|     7|          3|      16|          0|          2|                    15|\n",
      "| Location 8| 44.810031702133| 10.286827741443|                     2|                      212333.33|            true|               Parma|EMILIA ROMAGNA|               161903|                    776.3318979752188|         3|   5|     20|  0|   0|       0|  0|        2|       0|        0|       1|                0|               0|       0|     1|          0|       1|          0|          0|                     7|\n",
      "| Location 9|45.5118679373017|9.28048191263696|                     2|                      205116.28|           false|           Vimodrone|     LOMBARDIA|                13720|                     98.9116062546804|        10|   2|     91|  0|   1|       1|  0|        1|       2|        0|       1|                0|               0|       0|     8|          0|       2|          0|          2|                     5|\n",
      "|Location 10|      44.8473232|      11.5979132|                     2|                      183647.06|           false|             Ferrara|EMILIA ROMAGNA|               105671|                   506.69702223516146|        16|   8|     96|  0|   6|       1|  0|        3|       0|        1|       0|                0|               0|       0|     5|          1|       3|          0|          2|                     7|\n",
      "|Location 11|45.5427892825392|9.18957908132117|                     2|                      112727.27|           false|Error during geoc...|       UNKNOWN|                    0|                                 NULL|        22|   6|    113|  3|  11|       1|  3|        8|       2|        0|       2|                0|               0|       0|    14|          0|      12|          0|          3|                     7|\n",
      "|Location 12|41.9578508559251|12.5479545040863|                     2|                      104090.91|            true|Error during geoc...|       UNKNOWN|              2246875|                                 NULL|         8|   6|     52|  0|   2|       0|  3|        3|       1|        0|       2|                0|               0|       0|     8|          0|       4|          0|          1|                     2|\n",
      "|Location 13|      45.4238615|       11.873375|                     2|                       74117.65|           false|              Padova|        VENETO|               169085|                     843.234409637978|        10|   9|     57|  2|  10|       1|  2|       14|       0|        2|       0|                0|               0|       0|    10|          2|       9|          0|          3|                     2|\n",
      "|Location 14|45.5772057974587|9.06559138730712|                     2|                       58470.59|           false| Garbagnate Milanese|     LOMBARDIA|                22038|                   158.87856987176724|        13|   4|    124|  0|   0|       0|  0|        2|       0|        0|       0|                0|               0|       0|     9|          0|       1|          0|          1|                     0|\n",
      "|Location 15| 43.560201415122|13.5108636275027|                     2|                       42823.53|            true|              Ancona|        MARCHE|                80944|                   152.51701026726138|        11|   4|     13|  1|   2|       0|  2|        6|       0|        1|       1|                0|               0|       0|     1|          0|       1|          0|          0|                     1|\n",
      "|Location 16|45.3930637896606|9.15013222095038|                     1|                        33705.5|            true|             Rozzano|     LOMBARDIA|                33734|                   243.19855141365804|         7|   3|     49|  0|   0|       0|  0|        1|       0|        0|       1|                0|               0|       0|     6|          0|       1|          0|          0|                     1|\n",
      "|Location 17|45.6500079673525|8.80839790130186|                     1|                       32798.74|           false|           Gallarate|     LOMBARDIA|                43439|                    313.1648151674243|        12|   5|    139|  1|   4|       0|  1|        8|       0|        0|       1|                0|               1|       0|     3|          2|       2|          0|          0|                     4|\n",
      "|Location 18|45.4422563231016|9.04696847777923|                     1|                        31396.4|           false|              Cusago|     LOMBARDIA|                 3838|                   27.669296268619778|         3|   2|     31|  0|   1|       0|  0|        0|       0|        0|       1|                0|               0|       0|     3|          0|       1|          0|          0|                     1|\n",
      "|Location 19|44.8255611421675|10.2096103215406|                     1|                       30327.87|            true|           Fontevivo|EMILIA ROMAGNA|                 4474|                   21.453023795365922|         3|   2|      9|  0|   2|       0|  0|        0|       0|        0|       0|                0|               0|       0|     1|          0|       1|          0|          1|                     1|\n",
      "|Location 20| 42.460214478762|12.4183118423288|                     1|                       29968.55|            true|                Orte|         LAZIO|                 7420|                    42.79917108836783|         1|   4|      4|  0|   0|       0|  0|        2|       0|        0|       0|                0|               1|       0|     0|          0|       0|          0|          0|                     1|\n",
      "+-----------+----------------+----------------+----------------------+-------------------------------+----------------+--------------------+--------------+---------------------+-------------------------------------+----------+----+-------+---+----+--------+---+---------+--------+---------+--------+-----------------+----------------+--------+------+-----------+--------+-----------+-----------+----------------------+\n",
      "only showing top 20 rows\n",
      "\n"
     ]
    }
   ],
   "source": [
    "# Filters competitor within 1 km\n",
    "competitors_within_1km = with_distances.filter(col(\"distance_km\") <= 1)\n",
    "\n",
    "# Counts the competitors per location\n",
    "competitors_count = (\n",
    "    competitors_within_1km.groupBy(\"Location\")\n",
    "    .count()\n",
    "    .rdd.map(lambda row: (row[\"Location\"], row[\"count\"]))\n",
    "    .collectAsMap()\n",
    ")\n",
    "\n",
    "def map_competitors(location):\n",
    "    return competitors_count.get(location, 0)\n",
    "\n",
    "map_competitors_udf = udf(map_competitors, IntegerType())\n",
    "\n",
    "t3 = t3.withColumn(\n",
    "    \"competitors_within_1km\",\n",
    "    map_competitors_udf(t3[\"Location\"])\n",
    ")\n",
    "\n",
    "t3.show()"
   ]
  },
  {
   "cell_type": "code",
   "execution_count": null,
   "metadata": {},
   "outputs": [],
   "source": [
    "# Intermediate save\n",
    "# t3.toPandas().to_csv(\"/data/full/t3_with_competitors.csv\", index=False)"
   ]
  },
  {
   "cell_type": "markdown",
   "metadata": {},
   "source": [
    "Calculation of Diversity Index, already seen in task 2"
   ]
  },
  {
   "cell_type": "code",
   "execution_count": null,
   "metadata": {},
   "outputs": [
    {
     "name": "stdout",
     "output_type": "stream",
     "text": [
      "+----------+----------------+----------------+----------------------+-------------------------------+----------------+-----------------+---------+---------------------+-------------------------------------+----------+----+-------+---+----+--------+---+---------+--------+---------+--------+-----------------+----------------+--------+------+-----------+--------+-----------+-----------+----------------------+------------------+--------------+------------------+\n",
      "|  Location|        Latitude|       Longitude|Energy Predicted range|Energy predicted Point Estimate|Highway Junction|     station_city|   Region|People in Driving Age|Estimated number of electric vehicles|restaurant|fuel|parking|atm|bank|hospital|pub|fast_food|townhall|nightclub|car_wash|conference_centre|payment_terminal|training|school|bus_station|pharmacy|supermarket|post_office|competitors_within_1km|     Shannon_Index|Richness_Index|   Diversity_Index|\n",
      "+----------+----------------+----------------+----------------------+-------------------------------+----------------+-----------------+---------+---------------------+-------------------------------------+----------+----+-------+---+----+--------+---+---------+--------+---------+--------+-----------------+----------------+--------+------+-----------+--------+-----------+-----------+----------------------+------------------+--------------+------------------+\n",
      "|Location 1|     45.09934203|     7.708654993|                     2|                      645649.82|           false|           Torino| PIEMONTE|               690792|                   3154.6260976169397|        14|  11|     47|  0|   5|       1|  1|        3|       0|        0|       3|                0|               0|       0|    13|          0|      11|          0|          3|                     7| 1.959309638093704|            12|10.159309638093704|\n",
      "|Location 2|45.5584398861864|9.24029489212583|                     2|                      682948.72|            true|Cinisello Balsamo|LOMBARDIA|                61130|                    440.7045546901321|         8|   7|     77|  0|   0|       0|  0|        5|       0|        1|       1|                0|               0|       0|     3|          0|       2|          0|          0|                     1| 1.059110429692245|             9| 8.059110429692247|\n",
      "|Location 3|45.5686020311218|9.36304684610199|                     2|                      563589.74|            true|   Agrate Brianza|LOMBARDIA|                12801|                    92.28625886779619|         5|   4|     68|  1|   1|       0|  0|        1|       0|        0|       1|                0|               0|       0|     1|          0|       3|          0|          0|                     3|0.9874440339028203|            10|  8.38744403390282|\n",
      "|Location 4|45.6277610515318|8.71249975733013|                     2|                      488764.71|            true|            Ferno|LOMBARDIA|                 5437|                   39.196968163753446|         2|   0|     26|  1|   0|       0|  0|        4|       0|        0|       0|                0|               0|       0|     0|          0|       1|          0|          0|                     0|0.8310081189056324|             5| 4.831008118905633|\n",
      "|Location 5|41.9240785964876| 12.516346882219|                     2|                      313372.09|            true|             Roma|    LAZIO|              2246875|                   12960.160045711114|        39|  24|    146|  3|  14|       4|  7|       11|       0|        1|       0|                0|               0|       0|    23|          0|      23|          0|          4|                    21|1.8737657413078248|            13| 8.073765741307824|\n",
      "+----------+----------------+----------------+----------------------+-------------------------------+----------------+-----------------+---------+---------------------+-------------------------------------+----------+----+-------+---+----+--------+---+---------+--------+---------+--------+-----------------+----------------+--------+------+-----------+--------+-----------+-----------+----------------------+------------------+--------------+------------------+\n",
      "only showing top 5 rows\n",
      "\n"
     ]
    }
   ],
   "source": [
    "# competitors_within_1km is needed for the calculation of Diversity Index\n",
    "amenities.append('competitors_within_1km')\n",
    "\n",
    "t3 = t3.fillna({col: 0 for col in amenities})\n",
    "\n",
    "@udf(DoubleType())\n",
    "def shannon_index_udf(*args):\n",
    "    row = np.array(args, dtype=float)\n",
    "    total = row.sum()\n",
    "    if total == 0:\n",
    "        return 0.0\n",
    "    proportions = row / total\n",
    "    proportions = proportions[proportions > 0]\n",
    "    return float(-np.sum(proportions * np.log(proportions)))\n",
    "\n",
    "@udf(IntegerType())\n",
    "def richness_index_udf(*args):\n",
    "    row = np.array(args, dtype=float)\n",
    "    return int(np.sum(row > 0))\n",
    "\n",
    "# Calculate Shannon Index & Richness Index\n",
    "t3 = t3.withColumn(\"Shannon_Index\", shannon_index_udf(*[col(c) for c in amenities]))\n",
    "t3 = t3.withColumn(\"Richness_Index\", richness_index_udf(*[col(c) for c in amenities]))\n",
    "\n",
    "# Calculate the Diversity Index\n",
    "alpha = 0.8\n",
    "beta = 0.2\n",
    "t3 = t3.withColumn(\n",
    "    \"Diversity_Index\",\n",
    "    col(\"Shannon_Index\") + lit(alpha) * col(\"Richness_Index\") - lit(beta) * col(\"competitors_within_1km\")\n",
    ")\n",
    "\n",
    "t3.show(5)\n"
   ]
  },
  {
   "cell_type": "markdown",
   "metadata": {},
   "source": [
    "We use the task 2 output dataset to train, validate and test our models in order to finally use t3 to make new predictions.  \n",
    "We need the two dataset matching the schema"
   ]
  },
  {
   "cell_type": "code",
   "execution_count": 166,
   "metadata": {},
   "outputs": [],
   "source": [
    "kpi=spark.read.csv(\"/data/full/kpi.csv\", header=True)"
   ]
  },
  {
   "cell_type": "code",
   "execution_count": null,
   "metadata": {},
   "outputs": [
    {
     "name": "stdout",
     "output_type": "stream",
     "text": [
      "+------------------+--------------------+-------------------+------------------+-------------+------------------+----------------------------+---------+---------------------+---------+---------+----------+----+-------+---+----+--------+---+---------+--------+---------+--------+-----------------+----------------+--------+------+-----------+--------+-----------+-----------+----------+------------------+--------------+-----------------+----------------------+--------------------+------------------+-------------------+--------------------------+-------------------------+-----------------------+--------------------+-------------------------+----------------------------+----------------+--------------------+---------+---------------------+-------------------------------------+\n",
      "|           EVSE ID|  indirizzo_stazione|energia_erogata_kwh|     ricavi_totali|costo_stimato|Numero_di_sessioni|competitors_within_1km_count|Plug Type|connector_isSuspended| latitude|longitude|restaurant|fuel|parking|atm|bank|hospital|pub|fast_food|townhall|nightclub|car_wash|conference_centre|payment_terminal|training|school|bus_station|pharmacy|supermarket|post_office|within_1km|     Shannon_Index|Richness_Index|  Diversity_Index|durata_totale_sessioni|efficienza_economica|costo_per_sessione|    margine_per_kwh|efficienza_erogativa_kwh/s|efficienza_economica_norm|costo_per_sessione_norm|margine_per_kwh_norm|efficienza_erogativa_norm|indice_performance_combinato|Highway Junction|        station_city|   Region|People in Driving Age|Estimated number of electric vehicles|\n",
      "+------------------+--------------------+-------------------+------------------+-------------+------------------+----------------------------+---------+---------------------+---------+---------+----------+----+-------+---+----+--------+---+---------+--------+---------+--------+-----------------+----------------+--------+------+-----------+--------+-----------+-----------+----------+------------------+--------------+-----------------+----------------------+--------------------+------------------+-------------------+--------------------------+-------------------------+-----------------------+--------------------+-------------------------+----------------------------+----------------+--------------------+---------+---------------------+-------------------------------------+\n",
      "|IT*F2X*EF2XITA1001|A1 - Autostrada d...|          93203.224| 63378.30002634167|    23300.806|            2916.0|                         0.0|     NULL|                  0.0|45.321512|  9.37723|       1.0| 2.0|    3.0|0.0| 0.0|     0.0|0.0|      0.0|     0.0|      0.0|     0.0|              0.0|             0.0|     0.0|   0.0|        0.0|     0.0|        0.0|        0.0|        no|1.0114042647073518|             3|3.411404264707352|             4183859.0|  0.6800011556074677| 7.990674211248286|0.43000115560746766|        0.0222768558883079|       0.9999453498852751|    0.23364337922861955|  0.9999453498852751|       0.8691327024826061|          0.7756666953704439|           false|San Zenone al Lambro|LOMBARDIA|                 3649|                   26.306738427356322|\n",
      "|IT*F2X*EF2XITA1002|A1 - Autostrada d...|          96071.452| 65328.68607731459|    24017.863|            3134.0|                         0.0|     NULL|                  0.0| 45.32147| 9.377177|       1.0| 2.0|    3.0|0.0| 0.0|     0.0|0.0|      0.0|     0.0|      0.0|     0.0|              0.0|             0.0|     0.0|   0.0|        0.0|     0.0|        0.0|        0.0|        no|1.0114042647073518|             3|3.411404264707352|             4390290.0|  0.6800010275405703| 7.663644862795151| 0.4300010275405704|      0.021882712075967647|       0.9999447933788621|     0.2650237749870579|  0.9999447933788623|       0.8536876694265845|          0.7796502577928417|           false|San Zenone al Lambro|LOMBARDIA|                 3649|                   26.306738427356322|\n",
      "|IT*F2X*EF2XITA1051|A1 - Autostrada d...|           4418.383| 2337.713376348156|   1104.59575|             376.0|                         0.0|     NULL|                  0.0|45.321575| 9.377425|       1.0| 2.0|    3.0|0.0| 0.0|     0.0|0.0|      0.0|     0.0|      0.0|     0.0|              0.0|             0.0|     0.0|   0.0|        0.0|     0.0|        0.0|        0.0|        no|1.0114042647073518|             3|3.411404264707352|              658371.0|    0.52908798905576|2.9377546542553192|0.27908798905576004|      0.006711083872163263|      0.34416195278423456|      0.718500827601377|  0.3441619527842346|      0.25916787288302895|          0.4164981515132188|           false|San Zenone al Lambro|LOMBARDIA|                 3649|                   26.306738427356322|\n",
      "|IT*F2X*EF2XITA1101|A1 - Autostrada d...|          65691.772|44670.529679350446|    16422.943|            2137.0|                         0.0|     NULL|                  0.0|45.321025| 9.375251|       1.0| 2.0|    3.0|0.0| 0.0|     0.0|0.0|      0.0|     0.0|      0.0|     0.0|              0.0|             0.0|     0.0|   0.0|        0.0|     0.0|        0.0|        0.0|        no|1.0114042647073518|             3|3.411404264707352|             3186927.0|  0.6800018985536035| 7.685045858680393|0.43000189855360343|       0.02061288884244917|       0.9999485783096197|     0.2629702231462822|  0.9999485783096194|       0.8039280101272365|          0.7666988474731894|           false|San Zenone al Lambro|LOMBARDIA|                 3649|                   26.306738427356322|\n",
      "|IT*F2X*EF2XITA1102|A1 - Autostrada d...|          73304.408|49846.616394706885|    18326.102|            2376.0|                         0.0|     NULL|                  0.0|45.321051| 9.375283|       1.0| 2.0|    3.0|0.0| 0.0|     0.0|0.0|      0.0|     0.0|      0.0|     0.0|              0.0|             0.0|     0.0|   0.0|        0.0|     0.0|        0.0|        0.0|        no|1.0114042647073518|             3|3.411404264707352|             3747422.0|  0.6799948018774926| 7.713005892255892|0.42999480187749267|       0.01956128986807464|        0.999917740162926|    0.26028729293476294|  0.9999177401629263|       0.7627197495574325|           0.755710630704512|           false|San Zenone al Lambro|LOMBARDIA|                 3649|                   26.306738427356322|\n",
      "+------------------+--------------------+-------------------+------------------+-------------+------------------+----------------------------+---------+---------------------+---------+---------+----------+----+-------+---+----+--------+---+---------+--------+---------+--------+-----------------+----------------+--------+------+-----------+--------+-----------+-----------+----------+------------------+--------------+-----------------+----------------------+--------------------+------------------+-------------------+--------------------------+-------------------------+-----------------------+--------------------+-------------------------+----------------------------+----------------+--------------------+---------+---------------------+-------------------------------------+\n",
      "only showing top 5 rows\n",
      "\n"
     ]
    }
   ],
   "source": [
    "# Calculation of missing columns\n",
    "kpi = kpi.withColumn(\n",
    "    \"Highway Junction\", \n",
    "    highway_junction_udf(col(\"latitude\"), col(\"longitude\"))\n",
    ").withColumn(\n",
    "    \"station_city\", \n",
    "    trova_comune_udf(col(\"latitude\"), col(\"longitude\"))\n",
    ").withColumn(\n",
    "    \"Region\", \n",
    "    upper(map_region_udf(col(\"station_city\")))\n",
    ").withColumn(\n",
    "    \"People in Driving Age\", \n",
    "    ceil(map_population_udf(col(\"station_city\")) * percentage)\n",
    ").withColumn(\n",
    "    \"Estimated number of electric vehicles\",\n",
    "    calculate_ev_udf(col(\"Region\"), col(\"People in Driving Age\"))\n",
    ")\n",
    "\n",
    "kpi.show(5)"
   ]
  },
  {
   "cell_type": "code",
   "execution_count": null,
   "metadata": {},
   "outputs": [],
   "source": [
    "# Column renaming\n",
    "t3 = t3.withColumnRenamed(\"Energy predicted Point Estimate\", \"Energy kwh\")\n",
    "\n",
    "columns_models = {\n",
    "    \"energia_erogata_kwh\": \"Energy kwh\",\n",
    "    \"Diversity_Index\": \"Diversity_Index\",\n",
    "    \"Highway Junction\": \"Highway Junction\",\n",
    "    \"Estimated number of electric vehicles\": \"Estimated number of electric vehicles\"\n",
    "}\n",
    "\n",
    "kpi2 = kpi.select(\n",
    "    [col(original).alias(new) for original, new in columns_models.items()]\n",
    ")\n",
    "\n",
    "# Convertion of boolean values to numeric\n",
    "kpi2 = kpi.withColumn(\"Highway Junction\", when(col(\"Highway Junction\") == True, 1).otherwise(0))\n",
    "t3 = t3.withColumn(\"Highway Junction\", when(col(\"Highway Junction\") == True, 1).otherwise(0))\n"
   ]
  },
  {
   "cell_type": "markdown",
   "metadata": {},
   "source": [
    "### Models  \n",
    "For our study we decided to develop three models:  \n",
    "- **Linear Regression**: this model provides a simple, interpretable baseline. It assumes a linear relationship between the input features and the target variable, making it an ideal starting point to understand the fundamental trends and relationships within the dataset.  \n",
    "- **Random Forest**: This ensemble learning method excels in capturing complex, non-linear relationships and interactions between variables. By averaging predictions from multiple decision trees, it also helps reduce overfitting and improves robustness, making it suitable for datasets with high variability or noise.  \n",
    "- **Decision Tree**: This model is straightforward, easy to visualize, and interpretable. It allows us to understand the feature splits and importance in a hierarchical manner, serving as a complementary approach to the Random Forest for identifying key drivers of the outcome.\n",
    "\n"
   ]
  },
  {
   "cell_type": "code",
   "execution_count": null,
   "metadata": {},
   "outputs": [],
   "source": [
    "from pyspark.ml.feature import VectorAssembler\n",
    "from pyspark.sql.functions import col, when\n",
    "from pyspark.ml.evaluation import RegressionEvaluator\n",
    "from pyspark.ml.evaluation import RegressionEvaluator\n",
    "from pyspark.sql.functions import abs\n"
   ]
  },
  {
   "cell_type": "code",
   "execution_count": null,
   "metadata": {},
   "outputs": [],
   "source": [
    "# Convertion of string values to float\n",
    "def convert_columns_to_float(df, columns):\n",
    "    for column in columns:\n",
    "        df = df.withColumn(column, col(column).cast(\"float\"))\n",
    "    return df\n",
    "\n",
    "columns_to_convert = [\"Diversity_Index\", \"Highway Junction\", \"Estimated number of electric vehicles\", \"Energy kwh\"]\n",
    "\n",
    "kpi_df = convert_columns_to_float(kpi2, columns_to_convert)\n",
    "t3_df = convert_columns_to_float(t3, columns_to_convert)\n",
    "\n",
    "# Fill missing values\n",
    "kpi_df = kpi_df.na.fill(0)\n",
    "t3_df = t3_df.na.fill(0)"
   ]
  },
  {
   "cell_type": "code",
   "execution_count": null,
   "metadata": {},
   "outputs": [],
   "source": [
    "# Specification of features and target\n",
    "features = [\"Diversity_Index\", \"Highway Junction\", \"Estimated number of electric vehicles\"]\n",
    "target = \"Energy kwh\"\n",
    "\n",
    "assembler = VectorAssembler(inputCols=features, outputCol=\"features\")\n",
    "kpi_df = assembler.transform(kpi_df).select(\"features\", target)\n",
    "\n",
    "# Split training, validation & test set\n",
    "train_data, val_data, test_data = kpi_df.randomSplit([0.6, 0.2, 0.2], seed=42)\n"
   ]
  },
  {
   "cell_type": "code",
   "execution_count": null,
   "metadata": {},
   "outputs": [],
   "source": [
    "# Define a function to train a model with early stopping\n",
    "def train_model_with_early_stopping(model, train_data, val_data, test_data, max_epochs=100, tol=1e-4, patience=3):\n",
    "    \n",
    "    evaluator = RegressionEvaluator(labelCol=target, predictionCol=\"prediction\", metricName=\"r2\")\n",
    "    history = {\"training_error\": [], \"validation_error\": [], \"accuracy\": []}  # Initialize history\n",
    "    best_accuracy = -float(\"inf\")\n",
    "    epochs_without_improvement = 0\n",
    "    best_model = None # set initial best_model to None\n",
    "\n",
    "    # Print table header\n",
    "    print(f\"{'Epoch':<10}{'Training Error':<20}{'Validation Error':<20}{'Accuracy':<20}\")\n",
    "    print(\"=\" * 70)\n",
    "\n",
    "    for epoch in range(1, max_epochs + 1):\n",
    "        # Train the model\n",
    "        trained_model = model.fit(train_data)\n",
    "\n",
    "        # Evaluate performance on training and validation datasets\n",
    "        train_predictions = trained_model.transform(train_data)\n",
    "        val_predictions = trained_model.transform(val_data)\n",
    "\n",
    "        train_error = evaluator.evaluate(train_predictions)\n",
    "        val_error = evaluator.evaluate(val_predictions)\n",
    "        accuracy = 1 - abs(val_error - train_error)  # Calculate accuracy\n",
    "\n",
    "        # Log metrics for this epoch\n",
    "        history[\"training_error\"].append(train_error)\n",
    "        history[\"validation_error\"].append(val_error)\n",
    "        history[\"accuracy\"].append(accuracy)\n",
    "\n",
    "        # Print metrics for the current epoch\n",
    "        print(f\"{epoch:<10}{train_error:<20.4f}{val_error:<20.4f}{accuracy:<20.4f}\")\n",
    "\n",
    "        # Check for improvement\n",
    "        if accuracy > best_accuracy + tol:\n",
    "            best_accuracy = accuracy\n",
    "            best_model = trained_model\n",
    "            epochs_without_improvement = 0\n",
    "        else:\n",
    "            epochs_without_improvement += 1\n",
    "\n",
    "        # Early stopping if there's no improvement\n",
    "        if epochs_without_improvement >= patience:\n",
    "            print(\"Early stopping triggered.\")\n",
    "            break\n",
    "\n",
    "    print(\"=\" * 70)\n",
    "\n",
    "    # Final testing on the best model\n",
    "    if best_model is not None:\n",
    "        test_predictions = best_model.transform(test_data)\n",
    "        test_error = evaluator.evaluate(test_predictions)\n",
    "        print(f\"Final Test Error: {test_error:.4f}\")\n",
    "    else:\n",
    "        print(\"No improvement was achieved during training.\")\n",
    "\n",
    "    return best_model, history\n"
   ]
  },
  {
   "cell_type": "code",
   "execution_count": null,
   "metadata": {},
   "outputs": [],
   "source": [
    "from pyspark.ml.regression import LinearRegression\n",
    "\n",
    "# Inizialize the model\n",
    "lr_model = LinearRegression(featuresCol=\"features\", labelCol=target)\n",
    "\n",
    "# Train the model\n",
    "best_lr_model, lr_history = train_model_with_early_stopping(lr_model, train_data, val_data, test_data)\n"
   ]
  },
  {
   "cell_type": "code",
   "execution_count": null,
   "metadata": {},
   "outputs": [],
   "source": [
    "from pyspark.ml.regression import DecisionTreeRegressor\n",
    "\n",
    "dt_model = DecisionTreeRegressor(featuresCol=\"features\", labelCol=target)\n",
    "best_dt_model, dt_history = train_model_with_early_stopping(dt_model, train_data, val_data, test_data)\n"
   ]
  },
  {
   "cell_type": "code",
   "execution_count": null,
   "metadata": {},
   "outputs": [],
   "source": [
    "from pyspark.ml.regression import RandomForestRegressor\n",
    "\n",
    "rf_model = RandomForestRegressor(featuresCol=\"features\", labelCol=target, numTrees=50)\n",
    "best_rf_model, rf_history = train_model_with_early_stopping(rf_model, train_data, val_data, test_data)\n"
   ]
  },
  {
   "cell_type": "code",
   "execution_count": null,
   "metadata": {},
   "outputs": [],
   "source": [
    "# Display metrics in a dataframe\n",
    "metrics = pd.DataFrame({\n",
    "    \"Model\": [\"LinearRegression\", \"DecisionTree\", \"RandomForest\"],\n",
    "    \"Best Accuracy\": [max(lr_history[\"accuracy\"]), max(dt_history[\"accuracy\"]), max(rf_history[\"accuracy\"])],\n",
    "    \"Final Training Error\": [lr_history[\"training_error\"][-1], dt_history[\"training_error\"][-1], rf_history[\"training_error\"][-1]],\n",
    "    \"Final Validation Error\": [lr_history[\"validation_error\"][-1], dt_history[\"validation_error\"][-1], rf_history[\"validation_error\"][-1]],\n",
    "})\n",
    "display(metrics)\n",
    "\n"
   ]
  },
  {
   "cell_type": "markdown",
   "metadata": {},
   "source": [
    "Now, based on each model best trial, we can make predictions for the new dataset `t3`."
   ]
  },
  {
   "cell_type": "code",
   "execution_count": null,
   "metadata": {},
   "outputs": [],
   "source": [
    "from pyspark.ml.feature import VectorAssembler\n",
    "\n",
    "features = [\"Diversity_Index\", \"Highway Junction\", \"Estimated number of electric vehicles\"]\n",
    "t3_df = t3_df.select(*[col(f).cast(\"float\") for f in features])\n",
    "\n",
    "assembler = VectorAssembler(inputCols=features, outputCol=\"features\")\n",
    "t3_df = assembler.transform(t3_df)\n",
    "\n",
    "trained_models = {\n",
    "    \"LinearRegression\": best_lr_model,\n",
    "    \"DecisionTree\": best_dt_model,\n",
    "    \"RandomForest\": best_rf_model,\n",
    "}\n",
    "\n",
    "for model_name, model in trained_models.items():\n",
    "    predictions = model.transform(t3_df).select(\"prediction\").withColumnRenamed(\"prediction\", f\"Energy_kwh_{model_name}\")\n",
    "    t3_df = t3_df.withColumn(f\"Energy_kwh_{model_name}\", predictions[\"prediction\"])\n",
    "\n",
    "t3_df.show()"
   ]
  },
  {
   "cell_type": "code",
   "execution_count": null,
   "metadata": {},
   "outputs": [],
   "source": [
    "# Final save\n",
    "# t3_df.write.csv(\"/data/full/t3_final.csv\", header=True, mode=\"overwrite\")"
   ]
  },
  {
   "cell_type": "markdown",
   "metadata": {},
   "source": [
    "The models used have exhibited unsatisfactory performance in the current analysis. This outcome can likely be attributed to a combination of factors intrinsic to the data and the models themselves. Below, we outline the primary possible causes:\n",
    "\n",
    "1. **Data Quality**: The dataset might suffer from issues such as incompleteness, noise, or inconsistency. For example, missing values or unhandled outliers can significantly impact model accuracy.\n",
    "\n",
    "2. **Lack of Relevant Data**: If the available data does not adequately represent the phenomenon being modeled, the models may fail to capture meaningful patterns, limiting predictive capabilities.\n",
    "\n",
    "3. **Low Variability in Data**: Limited variability or high collinearity among features can negatively affect performance, particularly for models like linear regression.\n",
    "\n",
    "4. **Feature Representation**: The selected features may not be optimal, with variables that are weakly correlated or not representative of the target variable.\n",
    "\n",
    "5. **Model Limitations**: Linear Regression may not be suitable for non-linear or highly complex problems.\n",
    "  Decision Trees are prone to overfitting if not properly tuned.\n",
    "  Random Forest, while more robust, can still struggle with noisy data or weak patterns.\n",
    "\n",
    "6. **Small Dataset Size**: Models, especially more complex ones like Random Forest, require a sufficient volume of data to generalize effectively.\n"
   ]
  },
  {
   "cell_type": "markdown",
   "metadata": {},
   "source": [
    "We then calculate a performance estimation to assess the efficiency and effectiveness of a charging station. This ratio is influenced by three key factors:  \n",
    "  \n",
    "- Energy Estimation: The projected energy demand or consumption.\n",
    "- Diversity Index: A measure accounting for variations in usage patterns.\n",
    "- Number of EVs: The total number of electric vehicles utilizing the station.  \n"
   ]
  },
  {
   "cell_type": "code",
   "execution_count": null,
   "metadata": {},
   "outputs": [],
   "source": [
    "# Calculation of the estimated performance\n",
    "t3 = t3.withColumn(\n",
    "    \"Estimated performance\",\n",
    "    (col(\"Diversity_Index\") * log(col(\"Energy kwh\") + 1)) / (col(\"Estimated number of electric vehicles\") + 1)\n",
    ")\n"
   ]
  },
  {
   "cell_type": "code",
   "execution_count": null,
   "metadata": {},
   "outputs": [
    {
     "name": "stdout",
     "output_type": "stream",
     "text": [
      "Location 13\n",
      "Location 30\n",
      "Location 49\n",
      "Location 29\n",
      "Location 7\n",
      "Location 52\n",
      "Location 11\n",
      "Location 15\n",
      "Location 53\n",
      "Location 12\n"
     ]
    }
   ],
   "source": [
    "sorted_diversity = t3.orderBy(\"Diversity_Index\", ascending=False)\n",
    "# Select top 10 locations\n",
    "top_10_locations = sorted_diversity.select(\"Location\").limit(10).collect()\n",
    "for row in top_10_locations:\n",
    "    print(row[\"Location\"])"
   ]
  },
  {
   "cell_type": "code",
   "execution_count": 193,
   "metadata": {},
   "outputs": [
    {
     "name": "stdout",
     "output_type": "stream",
     "text": [
      "Location 50\n",
      "Location 63\n",
      "Location 82\n",
      "Location 97\n",
      "Location 45\n",
      "Location 38\n",
      "Location 48\n",
      "Location 120\n",
      "Location 124\n",
      "Location 30\n"
     ]
    }
   ],
   "source": [
    "sorted_performance = t3.orderBy(\"Estimated performance\", ascending=False)\n",
    "# Select top 10 locations\n",
    "top_10_locations = sorted_performance.select(\"Location\").limit(10).collect()\n",
    "for row in top_10_locations:\n",
    "    print(row[\"Location\"])"
   ]
  },
  {
   "cell_type": "code",
   "execution_count": 194,
   "metadata": {},
   "outputs": [],
   "source": [
    "spark.stop()"
   ]
  }
 ],
 "metadata": {
  "kernelspec": {
   "display_name": "Python 3 (ipykernel)",
   "language": "python",
   "name": "python3"
  },
  "language_info": {
   "codemirror_mode": {
    "name": "ipython",
    "version": 3
   },
   "file_extension": ".py",
   "mimetype": "text/x-python",
   "name": "python",
   "nbconvert_exporter": "python",
   "pygments_lexer": "ipython3",
   "version": "3.11.6"
  }
 },
 "nbformat": 4,
 "nbformat_minor": 2
}
